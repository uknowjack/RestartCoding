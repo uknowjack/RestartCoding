{
 "cells": [
  {
   "cell_type": "code",
   "execution_count": 1,
   "metadata": {},
   "outputs": [],
   "source": [
    "#install zsh\n",
    "\n",
    "##unnecessary DONT DO IT\n",
    "\"\"\"\n",
    "sudo apt update\n",
    "\n",
    "sudo apt install zsh\n",
    "\n",
    "populate zshrc with config recommended (2)\n",
    "\n",
    "echo $SHELL\n",
    "\n",
    "chsh -s $(which zsh)\n",
    "\n",
    "grep zsh /etc/passwd\n",
    "\n",
    "zsh --version\n",
    "\n",
    "sudo apt install git-core curl fonts-powerline \n",
    "\n",
    "sh -c \"$(curl -fsSL https://raw.github.com/robbyrussell/oh-my-zsh/master/tools/install.sh)\"\n",
    "\n",
    "\"\"\"\n",
    "\n",
    "# restart computer"
   ]
  },
  {
   "cell_type": "code",
   "execution_count": null,
   "metadata": {},
   "outputs": [],
   "source": [
    "# make permanent changes to terminal\n",
    "\"\"\"\n",
    "# In the home directory use \n",
    "ls -la \n",
    "#to show all files including hidden ones\n",
    "\n",
    "#find .bashrc or .zshrc\n",
    "\n",
    "# use\n",
    "chmod 644 .bashrc\n",
    "# to change the read write abilities\n",
    "\n",
    "# * https://askubuntu.com/questions/127056/where-is-bashrc*\n",
    "\"\"\""
   ]
  }
 ],
 "metadata": {
  "kernelspec": {
   "display_name": "Python 3",
   "language": "python",
   "name": "python3"
  },
  "language_info": {
   "codemirror_mode": {
    "name": "ipython",
    "version": 3
   },
   "file_extension": ".py",
   "mimetype": "text/x-python",
   "name": "python",
   "nbconvert_exporter": "python",
   "pygments_lexer": "ipython3",
   "version": "3.8.5"
  }
 },
 "nbformat": 4,
 "nbformat_minor": 4
}
