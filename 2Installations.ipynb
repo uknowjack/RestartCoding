{
 "cells": [
  {
   "cell_type": "code",
   "execution_count": null,
   "metadata": {},
   "outputs": [],
   "source": [
    "#install zsh???\n",
    "\"\"\"\n",
    "#see terminal installations in adjacent part\n",
    "#try this again to see if installations work better when Ii start by installing zsh\n",
    "\"\"\""
   ]
  },
  {
   "cell_type": "code",
   "execution_count": 3,
   "metadata": {},
   "outputs": [],
   "source": [
    "#install jupyter notebook\n",
    "\n",
    "\"\"\"\n",
    "# if it doesnt exist already make a 'Drivers' folder\n",
    "# before installing make sure that the path is to the Drivers folder and place it in there\n",
    "# follow instructions from https://jupyter.org/\n",
    "\"\"\"\n",
    "#\n",
    "\n"
   ]
  },
  {
   "cell_type": "code",
   "execution_count": null,
   "metadata": {},
   "outputs": [],
   "source": [
    "# make jupyter more easy to access\n",
    "\"\"\"\n",
    "# if.bashrc or zshrc is not writable see 'make permanent changes to terminal' in 1Terminal\n",
    "\n",
    "# when/if .bashrc/zshrc is editable write:\n",
    "nano .somethingrc\n",
    "\n",
    "# at the bottom add\n",
    "alias jn='jupyter notebook'\n",
    "\"\"\""
   ]
  },
  {
   "cell_type": "code",
   "execution_count": 4,
   "metadata": {},
   "outputs": [],
   "source": [
    "#install gecko drive\n",
    "\n",
    "\"\"\"\n",
    "# Go to the geckodriver releases page. Find the latest version of the driver for your platform and download it.\n",
    "\n",
    "# if.bashrc or zshrc is not writable see 'make permanent changes to terminal' in 1Terminal\n",
    "\n",
    "# when/if .bashrc/zshrc is editable write:\n",
    "nano .somethingrc\n",
    "\n",
    "#make sure you know where the executable is\n",
    "#scroll down to the bottom and add by replacing path/to/executable with the path intended\n",
    "export PATH=$PATH:/path/to/executable\n",
    "\n",
    "# * https://techpiezo.com/linux/set-path-environment-variable-in-ubuntu/\n",
    "\n",
    "\"\"\""
   ]
  }
 ],
 "metadata": {
  "kernelspec": {
   "display_name": "Python 3",
   "language": "python",
   "name": "python3"
  },
  "language_info": {
   "codemirror_mode": {
    "name": "ipython",
    "version": 3
   },
   "file_extension": ".py",
   "mimetype": "text/x-python",
   "name": "python",
   "nbconvert_exporter": "python",
   "pygments_lexer": "ipython3",
   "version": "3.8.5"
  }
 },
 "nbformat": 4,
 "nbformat_minor": 4
}
