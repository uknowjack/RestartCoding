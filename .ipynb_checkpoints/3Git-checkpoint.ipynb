{
 "cells": [
  {
   "cell_type": "code",
   "execution_count": 1,
   "metadata": {},
   "outputs": [
    {
     "data": {
      "text/plain": [
       "'\\n# navigate to the folder you want the repo to be placed\\n\\n# navigate to the repo in github and click the download button\\n\\n# copy the address\\n\\ngit clone *paste the piece copied from github*\\n\\n'"
      ]
     },
     "execution_count": 1,
     "metadata": {},
     "output_type": "execute_result"
    }
   ],
   "source": [
    "# get something from github\n",
    "\"\"\"\n",
    "# navigate to the folder you want the repo to be placed\n",
    "\n",
    "# navigate to the repo in github and click the download button\n",
    "\n",
    "# copy the address\n",
    "\n",
    "git clone *paste the piece copied from github*\n",
    "\n",
    "\"\"\""
   ]
  },
  {
   "cell_type": "code",
   "execution_count": null,
   "metadata": {},
   "outputs": [],
   "source": [
    "# set up with git\n",
    "\"\"\"\n",
    "git config --global user.name=\"Your Name Here\"\n",
    "git config --global user.email=\"your@email.here\"\n",
    "\"\"\""
   ]
  },
  {
   "cell_type": "code",
   "execution_count": null,
   "metadata": {},
   "outputs": [],
   "source": [
    "# initiate git tracking\n",
    "\"\"\"\n",
    "# in the terminal, navigate to the folder you need tracked\n",
    "\n",
    "git init\n",
    "\"\"\"\n"
   ]
  },
  {
   "cell_type": "code",
   "execution_count": null,
   "metadata": {},
   "outputs": [],
   "source": [
    "# check status (this can be done at any stage of the process below)\n",
    "\"\"\"\n",
    "git status\n",
    "\"\"\""
   ]
  },
  {
   "cell_type": "code",
   "execution_count": null,
   "metadata": {},
   "outputs": [],
   "source": [
    "# \n",
    "\"\"\"\n",
    "git add .\n",
    "git commit -m 'message here'\n",
    "git push origin master\n",
    "\n",
    "# origin master can be changed if i use a different branch\n",
    "\"\"\""
   ]
  }
 ],
 "metadata": {
  "kernelspec": {
   "display_name": "Python 3",
   "language": "python",
   "name": "python3"
  },
  "language_info": {
   "codemirror_mode": {
    "name": "ipython",
    "version": 3
   },
   "file_extension": ".py",
   "mimetype": "text/x-python",
   "name": "python",
   "nbconvert_exporter": "python",
   "pygments_lexer": "ipython3",
   "version": "3.8.5"
  }
 },
 "nbformat": 4,
 "nbformat_minor": 4
}
