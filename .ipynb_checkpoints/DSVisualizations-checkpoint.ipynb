{
 "cells": [
  {
   "cell_type": "code",
   "execution_count": 4,
   "metadata": {},
   "outputs": [],
   "source": [
    "\"\"\"\n",
    "visualizations flash program\n",
    "\"\"\"\n",
    "import random"
   ]
  },
  {
   "cell_type": "code",
   "execution_count": 5,
   "metadata": {},
   "outputs": [],
   "source": [
    "flash_list = {\n",
    "    'common way to import matplotlib': 'import matplotlib.pyplot as plt',\n",
    "    'see plots in jupyter notebook': '%matplotlib inline',\n",
    "    'plot the points':'plt.plot(series_x, series_y)',\n",
    "    'show the plot':'plt.show',\n",
    "    'plt methods': \"\"\"plt.xlabel('x title') plt.ylabel('y title') plt.title('title')\"\"\",\n",
    "    'multiple plots': \"\"\"plt.subplot(rows, columns, referral of the plot)\"\"\",\n",
    "    'object oriented method': \"\"\"fig = plt.figure()\"\"\",\n",
    "    'add axes': 'axes=fig.add_axes([left,bottom,width,height])',\n",
    "    'add data to OOM': 'axes.plot(series_x,series_y)',\n",
    "    'OOM methods': \"\"\"axes.set_xlabel('string') axes.set_ylabel('string') axes.set_title('string')\"\"\",\n",
    "    'OOM multiple plots (preferred method)': 'fig,axes = plt.subplot(nrows=y1,ncols=x1)',\n",
    "    'troubleshooting: overlapping subplots': 'plt.tight_layout()',\n",
    "    'fig,axes axes are _____': 'iterable and indexable',\n",
    "    'change figure size': 'fig = plt.figure(figsize=(width,height))',\n",
    "    'OOM change figure size': 'fig,axes = plt.subplot(nrows=y1,ncols=x1,figsize=(x2,y2))',\n",
    "    'save the figure': \"\"\"fig.savefig('string_here_ending_in_file_type_ie_filename.jpg',dpi=dots_per_inch)\"\"\",\n",
    "    'ax.legend()':'provides a legend, make sure each plot method includes label perameters',\n",
    "    'ax.plot perameters': \"\"\"ax.plot(x,y,color='[color string or hex code]',linewidth [or lw] = lw, alpha=transperancy, linestyle [or ls]='.-',marker=[o,x,+,1,*], markersize [or ms] = ms, markerfacecolor='color or hex string', markeredgewidth=mew,)\"\"\"\n",
    "}"
   ]
  },
  {
   "cell_type": "code",
   "execution_count": null,
   "metadata": {},
   "outputs": [],
   "source": [
    "pandas_vis = {\n",
    "    'histogram: distribution chart': \"\"\"df['column'].hist() or .hist(bins=n)\"\"\",\n",
    "    'nicer graphs': 'import seaborn as sns'\n",
    "    'alternative way to graph': \"\"\"df['column'].plot(kind='hist', bins=n)\"\"\"\n",
    "    'alternative way 2 to graph': \"\"\"df.plot.area(alpha=n)\"\"\"\n",
    "    \n",
    "}"
   ]
  },
  {
   "cell_type": "code",
   "execution_count": 6,
   "metadata": {},
   "outputs": [
    {
     "name": "stdout",
     "output_type": "stream",
     "text": [
      "OOM multiple plots (preferred method)\n"
     ]
    }
   ],
   "source": [
    "question = random.choice(list(flash_list.keys()))\n",
    "print(question)"
   ]
  },
  {
   "cell_type": "code",
   "execution_count": null,
   "metadata": {},
   "outputs": [],
   "source": []
  }
 ],
 "metadata": {
  "kernelspec": {
   "display_name": "Python 3",
   "language": "python",
   "name": "python3"
  },
  "language_info": {
   "codemirror_mode": {
    "name": "ipython",
    "version": 3
   },
   "file_extension": ".py",
   "mimetype": "text/x-python",
   "name": "python",
   "nbconvert_exporter": "python",
   "pygments_lexer": "ipython3",
   "version": "3.8.5"
  }
 },
 "nbformat": 4,
 "nbformat_minor": 4
}
